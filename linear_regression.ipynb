{
 "metadata": {
  "language_info": {
   "codemirror_mode": {
    "name": "ipython",
    "version": 3
   },
   "file_extension": ".py",
   "mimetype": "text/x-python",
   "name": "python",
   "nbconvert_exporter": "python",
   "pygments_lexer": "ipython3",
   "version": "3.8.5-final"
  },
  "orig_nbformat": 2,
  "kernelspec": {
   "name": "python3",
   "display_name": "Python 3.8.5 64-bit ('colab')",
   "metadata": {
    "interpreter": {
     "hash": "f0176e97f1d1d26f6ac0477144377add3697e3072c0a278919061171a05c7de1"
    }
   }
  }
 },
 "nbformat": 4,
 "nbformat_minor": 2,
 "cells": [
  {
   "cell_type": "code",
   "execution_count": 1,
   "metadata": {},
   "outputs": [],
   "source": [
    "# y = b+w*x\n",
    "w = 5\n",
    "b = 4"
   ]
  },
  {
   "cell_type": "code",
   "execution_count": 5,
   "metadata": {},
   "outputs": [
    {
     "output_type": "execute_result",
     "data": {
      "text/plain": [
       "array([  4,   9,  14,  19,  24,  29,  34,  39,  44,  49,  54,  59,  64,\n",
       "        69,  74,  79,  84,  89,  94,  99, 104, 109, 114, 119, 124, 129,\n",
       "       134, 139, 144, 149, 154, 159, 164, 169, 174, 179, 184, 189, 194,\n",
       "       199, 204, 209, 214, 219, 224, 229, 234, 239, 244, 249, 254, 259,\n",
       "       264, 269, 274, 279, 284, 289, 294, 299, 304, 309, 314, 319, 324,\n",
       "       329, 334, 339, 344, 349, 354, 359, 364, 369, 374, 379, 384, 389,\n",
       "       394, 399, 404, 409, 414, 419, 424, 429, 434, 439, 444, 449, 454,\n",
       "       459, 464, 469, 474, 479, 484, 489, 494, 499])"
      ]
     },
     "metadata": {},
     "execution_count": 5
    }
   ],
   "source": [
    "import numpy as np\n",
    "x = np.arange(100)\n",
    "y = b + w * x\n",
    "y"
   ]
  },
  {
   "cell_type": "code",
   "execution_count": 9,
   "metadata": {
    "tags": []
   },
   "outputs": [
    {
     "output_type": "stream",
     "name": "stdout",
     "text": [
      "w1: 0, b1: 0\nw1: 0, b1: 8\nw1: 0, b1: 10\nw1: 0, b1: 18\nw1: 0, b1: 20\nw1: 0, b1: 28\nw1: 0, b1: 30\nw1: 0, b1: 38\nw1: 0, b1: 40\nw1: 0, b1: 48\nw1: 0, b1: 50\nw1: 0, b1: 58\nw1: 0, b1: 60\nw1: 0, b1: 68\nw1: 0, b1: 70\nw1: 0, b1: 78\nw1: 0, b1: 80\nw1: 0, b1: 88\nw1: 0, b1: 90\nw1: 0, b1: 98\nw1: 0, b1: 100\nw1: 0, b1: 108\nw1: 0, b1: 110\nw1: 0, b1: 118\nw1: 0, b1: 120\nw1: 0, b1: 128\nw1: 0, b1: 130\nw1: 0, b1: 138\nw1: 0, b1: 140\nw1: 0, b1: 148\nw1: 0, b1: 150\nw1: 0, b1: 158\nw1: 0, b1: 160\nw1: 0, b1: 168\nw1: 0, b1: 170\nw1: 0, b1: 178\nw1: 0, b1: 180\nw1: 0, b1: 188\nw1: 0, b1: 190\nw1: 0, b1: 198\nw1: 0, b1: 200\nw1: 0, b1: 208\nw1: 0, b1: 210\nw1: 0, b1: 218\nw1: 0, b1: 220\nw1: 0, b1: 228\nw1: 0, b1: 230\nw1: 0, b1: 238\nw1: 0, b1: 240\nw1: 0, b1: 248\nw1: 0, b1: 250\nw1: 0, b1: 258\nw1: 0, b1: 260\nw1: 0, b1: 268\nw1: 0, b1: 270\nw1: 0, b1: 278\nw1: 0, b1: 280\nw1: 0, b1: 288\nw1: 0, b1: 290\nw1: 0, b1: 298\nw1: 0, b1: 300\nw1: 0, b1: 308\nw1: 0, b1: 310\nw1: 0, b1: 318\nw1: 0, b1: 320\nw1: 0, b1: 328\nw1: 0, b1: 330\nw1: 0, b1: 338\nw1: 0, b1: 340\nw1: 0, b1: 348\nw1: 0, b1: 350\nw1: 0, b1: 358\nw1: 0, b1: 360\nw1: 0, b1: 368\nw1: 0, b1: 370\nw1: 0, b1: 378\nw1: 0, b1: 380\nw1: 0, b1: 388\nw1: 0, b1: 390\nw1: 0, b1: 398\nw1: 0, b1: 400\nw1: 0, b1: 408\nw1: 0, b1: 410\nw1: 0, b1: 418\nw1: 0, b1: 420\nw1: 0, b1: 428\nw1: 0, b1: 430\nw1: 0, b1: 438\nw1: 0, b1: 440\nw1: 0, b1: 448\nw1: 0, b1: 450\nw1: 0, b1: 458\nw1: 0, b1: 460\nw1: 0, b1: 468\nw1: 0, b1: 470\nw1: 0, b1: 478\nw1: 0, b1: 480\nw1: 0, b1: 488\nw1: 0, b1: 490\nw1: 0, b1: 498\nw1: 0, b1: 500\n"
     ]
    }
   ],
   "source": [
    "# loss = (y-(b1+w1*x))2\n",
    "# g_w1 = 2*w1*(y-b1-w1*x)\n",
    "# g_b1 = 2*w1*(y-b1-w1*x)\n",
    "learing_rate = 0.01\n",
    "w1 = 0\n",
    "b1 = 0\n",
    "\n",
    "def g_w1(x, y, b1, w1):\n",
    "    return -2*x*(y-b1-w1*x)\n",
    "\n",
    "def g_b1(x, y, b1, w1):\n",
    "    return -2*(y-b1-w1*x)\n",
    "\n",
    "print(f\"w1: {w1}, b1: {b1}\")\n",
    "\n",
    "for x1, y1 in zip(x, y):\n",
    "    w1 = w1 - g_w1(x1, y1, b1, w1)\n",
    "    b1 = b1 - g_b1(x1, y1, b1, w1)\n",
    "    print(f\"w1: {w1}, b1: {b1}\")\n",
    "\n"
   ]
  },
  {
   "cell_type": "code",
   "execution_count": null,
   "metadata": {},
   "outputs": [],
   "source": []
  }
 ]
}